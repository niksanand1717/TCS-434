{
 "cells": [
  {
   "cell_type": "code",
   "execution_count": 1,
   "metadata": {},
   "outputs": [],
   "source": [
    "import numpy as np\n",
    "import random\n",
    "import math"
   ]
  },
  {
   "cell_type": "code",
   "execution_count": 2,
   "metadata": {},
   "outputs": [
    {
     "name": "stdout",
     "output_type": "stream",
     "text": [
      "[51, 50, 99, 25, 15, 9, 7, 45, 6, 47, 90, 45, 22, 83, 23, 50, 49, 46, 75, 42, 30, 38, 19, 11, 21, 44, 76, 97, 2, 33, 6, 39, 57, 0, 90, 43, 39, 34, 4, 49, 53, 66, 90, 90, 22, 55, 96, 77, 94, 84, 15, 78, 13, 47, 41, 73, 43, 69, 16, 0, 33, 7, 52, 60, 79, 84, 22, 88, 80, 9, 57, 22, 98, 26, 44, 62, 25, 88, 91, 39, 7, 50, 37, 23, 57, 74, 72, 97, 43, 83, 43, 36, 41, 90, 38, 32, 16, 54, 46, 61, 44, 1, 30, 57, 7, 0, 2, 27, 24, 10, 77, 86, 58, 46, 17, 33, 0, 72, 18, 98, 91, 17, 52, 41, 65, 22, 58, 48, 59, 3, 74, 54, 32, 47, 99, 6, 65, 71, 19, 91, 13, 4, 85, 10, 24, 78, 9, 42, 53, 13, 50, 93, 41, 69, 60, 97, 29, 68, 42, 13, 52, 25, 26, 48, 86, 52, 30, 96, 15, 91, 0, 26, 1, 13, 59, 55, 32, 71, 27, 45, 85, 57, 45, 59, 56, 9, 70, 51, 1, 70, 10, 13, 34, 11, 44, 14, 5, 28, 15, 17, 95, 56, 98, 44, 89, 86, 50, 85, 26, 14, 74, 98, 75, 92, 35, 71, 18, 73, 64, 62, 83, 34, 87, 47, 5, 1, 31, 80, 92, 65, 83, 75, 48, 34, 36, 38, 89, 87, 25, 42, 34, 5, 36, 16, 69, 78, 12, 59, 96, 61, 64, 41, 31, 80, 27, 31, 75, 65, 30, 69, 88, 16, 6, 10, 55, 73, 76, 4, 6, 46, 46, 65, 42, 78, 64, 6, 25, 13, 70, 37, 30, 70, 12, 5, 26, 24, 89, 82, 77, 91, 84, 17, 95, 69, 53, 89, 15, 27, 74, 25]\n"
     ]
    }
   ],
   "source": [
    "lst = []\n",
    "for i in range(0, 300):\n",
    "    lst.append((np.random.randint(0, 100)))\n",
    "print(lst)"
   ]
  },
  {
   "cell_type": "code",
   "execution_count": 3,
   "metadata": {},
   "outputs": [],
   "source": [
    "centers = [33, 60, 85]\n",
    "cluster = [[], [], []]"
   ]
  },
  {
   "cell_type": "code",
   "execution_count": 4,
   "metadata": {},
   "outputs": [],
   "source": [
    "def euclidean_distance(centers, data):\n",
    "    distance0 = math.sqrt((data - centers[0])*(data - centers[0]))\n",
    "    distance1 = math.sqrt((data - centers[1])*(data - centers[1]))\n",
    "    distance2 = math.sqrt((data - centers[2])*(data - centers[2]))\n",
    "    return distance0, distance1, distance2"
   ]
  },
  {
   "cell_type": "code",
   "execution_count": 5,
   "metadata": {},
   "outputs": [],
   "source": [
    "for element in lst:\n",
    "    distance0, distance1, distance2 = euclidean_distance(centers, element)\n",
    "    \n",
    "    if distance0 < distance1 and distance0 < distance2:\n",
    "        cluster[0].append(element)\n",
    "        centers[0] = (centers[0] + element)/2\n",
    "        \n",
    "    elif distance1 < distance0 and distance1 < distance2:\n",
    "        cluster[1].append(element)\n",
    "        centers[1] = (centers[1] + element)/2\n",
    "        \n",
    "    elif distance2 < distance0 and distance2 < distance1:\n",
    "        cluster[2].append(element)\n",
    "        centers[2] = (centers[2] + element)/2"
   ]
  },
  {
   "cell_type": "code",
   "execution_count": 6,
   "metadata": {},
   "outputs": [
    {
     "data": {
      "text/plain": [
       "300"
      ]
     },
     "execution_count": 6,
     "metadata": {},
     "output_type": "execute_result"
    }
   ],
   "source": [
    "len(cluster[0])+len(cluster[1])+len(cluster[2])"
   ]
  },
  {
   "cell_type": "code",
   "execution_count": 7,
   "metadata": {},
   "outputs": [
    {
     "data": {
      "text/plain": [
       "[13.726270723460392, 29.207254933988214, 79.09118408723592]"
      ]
     },
     "execution_count": 7,
     "metadata": {},
     "output_type": "execute_result"
    }
   ],
   "source": [
    "centers"
   ]
  },
  {
   "cell_type": "code",
   "execution_count": 8,
   "metadata": {},
   "outputs": [
    {
     "name": "stdout",
     "output_type": "stream",
     "text": [
      "[0, 0, 0, 0, 0, 1, 1, 1, 1, 2, 2, 3, 4, 4, 4, 5, 5, 5, 5, 6, 6, 6, 6, 6, 6, 7, 7, 7, 7, 9, 9, 9, 9, 10, 10, 10, 10, 11, 11, 12, 12, 13, 13, 13, 13, 13, 13, 13, 14, 14, 15, 15, 15, 15, 15, 16, 16, 16, 16, 17, 17, 17, 17, 18, 18, 19, 19, 21, 22, 22, 22, 22, 22, 23, 23, 24, 25, 25, 25, 26, 26, 26, 26, 27, 28, 29, 30, 30, 32, 32, 34, 39] \n",
      "\n",
      "[24, 24, 25, 25, 25, 26, 27, 27, 27, 30, 30, 30, 31, 31, 31, 32, 33, 33, 33, 34, 34, 34, 34, 35, 36, 36, 36, 37, 37, 38, 38, 38, 39, 39, 41, 41, 41, 41, 41, 42, 42, 42, 42, 42, 43, 43, 43, 43, 44, 44, 44, 44, 44, 45, 45, 45, 45, 46, 46, 46, 46, 46, 47, 47, 47, 47, 48, 48, 48, 49, 49, 50, 50, 50, 50, 50, 51, 51, 52, 52, 52, 52, 53, 53, 53, 54, 54, 55, 55, 56, 56, 57, 57, 57, 57, 57, 58, 59, 59, 59, 60, 61, 62, 65, 65, 66, 68, 70, 70, 71, 71] \n",
      "\n",
      "[55, 58, 59, 60, 61, 62, 64, 64, 64, 65, 65, 65, 69, 69, 69, 69, 69, 70, 70, 71, 72, 72, 73, 73, 73, 74, 74, 74, 74, 75, 75, 75, 75, 76, 76, 77, 77, 77, 78, 78, 78, 78, 79, 80, 80, 80, 82, 83, 83, 83, 83, 84, 84, 84, 85, 85, 85, 86, 86, 86, 87, 87, 88, 88, 88, 89, 89, 89, 89, 90, 90, 90, 90, 90, 91, 91, 91, 91, 91, 92, 92, 93, 94, 95, 95, 96, 96, 96, 97, 97, 97, 98, 98, 98, 98, 99, 99] \n",
      "\n"
     ]
    }
   ],
   "source": [
    "for i in cluster:\n",
    "    print(sorted(i), \"\\n\")"
   ]
  },
  {
   "cell_type": "code",
   "execution_count": 9,
   "metadata": {},
   "outputs": [],
   "source": [
    "del cluster"
   ]
  },
  {
   "cell_type": "code",
   "execution_count": null,
   "metadata": {},
   "outputs": [],
   "source": []
  }
 ],
 "metadata": {
  "kernelspec": {
   "display_name": "Python 3",
   "language": "python",
   "name": "python3"
  },
  "language_info": {
   "codemirror_mode": {
    "name": "ipython",
    "version": 3
   },
   "file_extension": ".py",
   "mimetype": "text/x-python",
   "name": "python",
   "nbconvert_exporter": "python",
   "pygments_lexer": "ipython3",
   "version": "3.9.1+"
  }
 },
 "nbformat": 4,
 "nbformat_minor": 4
}
