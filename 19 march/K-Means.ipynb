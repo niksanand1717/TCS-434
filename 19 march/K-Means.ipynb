{
 "cells": [
  {
   "cell_type": "code",
   "execution_count": 1,
   "metadata": {},
   "outputs": [],
   "source": [
    "import numpy as np\n",
    "import random\n",
    "import math"
   ]
  },
  {
   "cell_type": "code",
   "execution_count": 2,
   "metadata": {
    "scrolled": true
   },
   "outputs": [
    {
     "name": "stdout",
     "output_type": "stream",
     "text": [
      "[0, 0, 0, 1, 2, 2, 4, 4, 4, 5, 8, 9, 12, 13, 14, 14, 16, 18, 20, 20, 22, 23, 24, 25, 28, 31, 33, 35, 35, 36, 37, 37, 37, 37, 38, 38, 38, 39, 40, 43, 44, 46, 46, 47, 47, 48, 48, 50, 52, 52, 54, 55, 55, 57, 59, 59, 63, 64, 65, 65, 68, 69, 69, 70, 70, 71, 72, 72, 73, 73, 73, 75, 76, 78, 79, 80, 81, 81, 83, 83, 83, 83, 84, 85, 88, 88, 90, 90, 92, 92, 93, 93, 94, 94, 94, 94, 95, 96, 97, 99]\n"
     ]
    }
   ],
   "source": [
    "lst = []\n",
    "for i in range(0, 100):\n",
    "    lst.append((np.random.randint(0, 100)))\n",
    "print(sorted(lst))"
   ]
  },
  {
   "cell_type": "code",
   "execution_count": 3,
   "metadata": {},
   "outputs": [],
   "source": [
    "centers_old = [3, 33, 67]\n",
    "centers_new = [0, 0, 0]\n",
    "centers_record = [[], [], []]\n",
    "cluster = [[], [], []]\n",
    "labels = []"
   ]
  },
  {
   "cell_type": "code",
   "execution_count": 4,
   "metadata": {},
   "outputs": [],
   "source": [
    "def euclidean_distance(centers, data):\n",
    "    distance0 = math.sqrt((data - centers[0])**2)\n",
    "    distance1 = math.sqrt((data - centers[1])**2)\n",
    "    distance2 = math.sqrt((data - centers[2])**2)\n",
    "    return distance0, distance1, distance2"
   ]
  },
  {
   "cell_type": "code",
   "execution_count": 5,
   "metadata": {},
   "outputs": [],
   "source": [
    "threshold = 0.1"
   ]
  },
  {
   "cell_type": "code",
   "execution_count": 6,
   "metadata": {},
   "outputs": [],
   "source": [
    "def condition(centers_old, centers_new, threshold):\n",
    "    flag = 0\n",
    "    if abs(centers_old[0] - centers_new[0]) < threshold:\n",
    "        flag+=1\n",
    "    if abs(centers_old[1] - centers_new[1]) < threshold:\n",
    "        flag+=1\n",
    "    if abs(centers_old[2] - centers_new[2]) < threshold:\n",
    "        flag+=1\n",
    "    if flag==3:\n",
    "        return True\n",
    "    else:\n",
    "        return False"
   ]
  },
  {
   "cell_type": "code",
   "execution_count": 7,
   "metadata": {},
   "outputs": [
    {
     "name": "stdout",
     "output_type": "stream",
     "text": [
      "[0, 0, 0]\n",
      "[3, 33, 67]\n",
      "[[], [], []]\n"
     ]
    }
   ],
   "source": [
    "print(centers_new)\n",
    "print(centers_old)\n",
    "print(centers_record)\n"
   ]
  },
  {
   "cell_type": "code",
   "execution_count": 8,
   "metadata": {},
   "outputs": [],
   "source": [
    "j=1\n",
    "while True:\n",
    "#     print(j)\n",
    "    cluster = [[], [], []]\n",
    "    labels = []\n",
    "    for element in lst:\n",
    "        \n",
    "        distance0, distance1, distance2 = euclidean_distance(centers_old, element)\n",
    "        \n",
    "        if distance0 < distance1 and distance0 < distance2:\n",
    "            cluster[0].append(element)\n",
    "            labels.append(0)\n",
    "            \n",
    "        elif distance1 < distance0 and distance1 < distance2:\n",
    "            cluster[1].append(element)\n",
    "            labels.append(1)\n",
    "            \n",
    "        elif distance2 < distance0 and distance2 < distance1:\n",
    "            cluster[2].append(element)\n",
    "            labels.append(2)\n",
    "    \n",
    "    for i in range(len(cluster)):\n",
    "        centers_new[i] = np.average(cluster[i])\n",
    "        centers_record[i].append(centers_new[i])\n",
    "    \n",
    "    if condition(centers_old, centers_new, threshold):\n",
    "        break\n",
    "        \n",
    "    \n",
    "    centers_old = centers_new\n",
    "    j += 1"
   ]
  },
  {
   "cell_type": "code",
   "execution_count": 9,
   "metadata": {},
   "outputs": [
    {
     "data": {
      "text/plain": [
       "2"
      ]
     },
     "execution_count": 9,
     "metadata": {},
     "output_type": "execute_result"
    }
   ],
   "source": [
    "j"
   ]
  },
  {
   "cell_type": "code",
   "execution_count": 10,
   "metadata": {},
   "outputs": [
    {
     "data": {
      "text/plain": [
       "[8.3, 40.0, 79.82978723404256]"
      ]
     },
     "execution_count": 10,
     "metadata": {},
     "output_type": "execute_result"
    }
   ],
   "source": [
    "centers_new"
   ]
  },
  {
   "cell_type": "code",
   "execution_count": 11,
   "metadata": {},
   "outputs": [
    {
     "data": {
      "text/plain": [
       "8.3"
      ]
     },
     "execution_count": 11,
     "metadata": {},
     "output_type": "execute_result"
    }
   ],
   "source": [
    "np.average(cluster[0])"
   ]
  },
  {
   "cell_type": "code",
   "execution_count": 12,
   "metadata": {},
   "outputs": [],
   "source": [
    "# for element in lst:\n",
    "#     distance0, distance1, distance2 = euclidean_distance(centers, element)\n",
    "    \n",
    "#     if distance0 < distance1 and distance0 < distance2:\n",
    "#         cluster[0].append(element)\n",
    "#         centers[0] = (centers[0] + element)/2\n",
    "# #         print(\"center 0:\",(centers[0]+element)/2)\n",
    "        \n",
    "#     elif distance1 < distance0 and distance1 < distance2:\n",
    "#         cluster[1].append(element)\n",
    "#         centers[1] = (centers[1] + element)/2\n",
    "# #         print(\"center 1:\",(centers[1]+element)/2)\n",
    "        \n",
    "#     elif distance2 < distance0 and distance2 < distance1:\n",
    "#         cluster[2].append(element)\n",
    "#         centers[2] = (centers[2] + element)/2\n",
    "# #         print(\"center 2:\",(centers[2]+element)/2)"
   ]
  },
  {
   "cell_type": "code",
   "execution_count": 13,
   "metadata": {},
   "outputs": [
    {
     "data": {
      "text/plain": [
       "100"
      ]
     },
     "execution_count": 13,
     "metadata": {},
     "output_type": "execute_result"
    }
   ],
   "source": [
    "len(cluster[0])+len(cluster[1])+len(cluster[2])"
   ]
  },
  {
   "cell_type": "code",
   "execution_count": 14,
   "metadata": {},
   "outputs": [
    {
     "data": {
      "text/plain": [
       "[8.3, 40.0, 79.82978723404256]"
      ]
     },
     "execution_count": 14,
     "metadata": {},
     "output_type": "execute_result"
    }
   ],
   "source": [
    "centers_old"
   ]
  },
  {
   "cell_type": "code",
   "execution_count": 15,
   "metadata": {},
   "outputs": [
    {
     "name": "stdout",
     "output_type": "stream",
     "text": [
      "[0, 0, 0, 1, 2, 2, 4, 4, 4, 5, 8, 9, 12, 13, 14, 14, 16, 18, 20, 20] \n",
      "\n",
      "[22, 23, 24, 25, 28, 31, 33, 35, 35, 36, 37, 37, 37, 37, 38, 38, 38, 39, 40, 43, 44, 46, 46, 47, 47, 48, 48, 50, 52, 52, 54, 55, 55] \n",
      "\n",
      "[57, 59, 59, 63, 64, 65, 65, 68, 69, 69, 70, 70, 71, 72, 72, 73, 73, 73, 75, 76, 78, 79, 80, 81, 81, 83, 83, 83, 83, 84, 85, 88, 88, 90, 90, 92, 92, 93, 93, 94, 94, 94, 94, 95, 96, 97, 99] \n",
      "\n"
     ]
    }
   ],
   "source": [
    "for i in cluster:\n",
    "    print(sorted(i), \"\\n\")\n",
    "#     print(len(i))"
   ]
  },
  {
   "cell_type": "code",
   "execution_count": 16,
   "metadata": {},
   "outputs": [],
   "source": [
    "import matplotlib.pyplot as plt"
   ]
  },
  {
   "cell_type": "code",
   "execution_count": 30,
   "metadata": {
    "scrolled": false
   },
   "outputs": [
    {
     "data": {
      "image/png": "[encoded data removed]",
      "text/plain": [
       "<Figure size 432x288 with 1 Axes>"
      ]
     },
     "metadata": {
      "needs_background": "light"
     },
     "output_type": "display_data"
    }
   ],
   "source": [
    "plt.plot(cluster[0], 'r')\n",
    "plt.plot(cluster[1], 'g')\n",
    "plt.plot(cluster[2], 'b')\n",
    "plt.show()"
   ]
  },
  {
   "cell_type": "code",
   "execution_count": 18,
   "metadata": {
    "scrolled": true
   },
   "outputs": [
    {
     "data": {
      "text/plain": [
       "Text(0, 0.5, 'Count of observations')"
      ]
     },
     "execution_count": 18,
     "metadata": {},
     "output_type": "execute_result"
    },
    {
     "data": {
      "image/png": "[encoded data removed]",
      "text/plain": [
       "<Figure size 432x288 with 1 Axes>"
      ]
     },
     "metadata": {
      "needs_background": "light"
     },
     "output_type": "display_data"
    }
   ],
   "source": [
    "plt.scatter(cluster[0], np.arange(0, len(cluster[0])))\n",
    "plt.scatter(cluster[1], np.arange(0, len(cluster[1])))\n",
    "plt.scatter(cluster[2], np.arange(0, len(cluster[2])))\n",
    "plt.xlabel(\"Sample Numbers\")\n",
    "plt.ylabel(\"Count of observations\")"
   ]
  },
  {
   "cell_type": "code",
   "execution_count": 19,
   "metadata": {},
   "outputs": [
    {
     "data": {
      "text/plain": [
       "[8.3, 40.0, 79.82978723404256]"
      ]
     },
     "execution_count": 19,
     "metadata": {},
     "output_type": "execute_result"
    }
   ],
   "source": [
    "centers_old"
   ]
  },
  {
   "cell_type": "code",
   "execution_count": 20,
   "metadata": {},
   "outputs": [
    {
     "data": {
      "image/png": "[encoded data removed]",
      "text/plain": [
       "<Figure size 432x288 with 1 Axes>"
      ]
     },
     "metadata": {
      "needs_background": "light"
     },
     "output_type": "display_data"
    }
   ],
   "source": [
    "plt.plot(centers_record[0], 'r')\n",
    "plt.plot(centers_record[1], 'g')\n",
    "plt.plot(centers_record[2], 'b')\n",
    "plt.show()"
   ]
  },
  {
   "cell_type": "code",
   "execution_count": 21,
   "metadata": {},
   "outputs": [
    {
     "data": {
      "text/plain": [
       "[[6.352941176470588, 8.3],\n",
       " [35.93103448275862, 40.0],\n",
       " [77.3076923076923, 79.82978723404256]]"
      ]
     },
     "execution_count": 21,
     "metadata": {},
     "output_type": "execute_result"
    }
   ],
   "source": [
    "centers_record"
   ]
  },
  {
   "cell_type": "code",
   "execution_count": 22,
   "metadata": {},
   "outputs": [
    {
     "data": {
      "text/plain": [
       "[8.3, 40.0, 79.82978723404256]"
      ]
     },
     "execution_count": 22,
     "metadata": {},
     "output_type": "execute_result"
    }
   ],
   "source": [
    "centers_new"
   ]
  },
  {
   "cell_type": "markdown",
   "metadata": {},
   "source": [
    "#### Importing sklearn library"
   ]
  },
  {
   "cell_type": "code",
   "execution_count": 23,
   "metadata": {},
   "outputs": [],
   "source": [
    "from sklearn.cluster import KMeans"
   ]
  },
  {
   "cell_type": "code",
   "execution_count": 24,
   "metadata": {},
   "outputs": [
    {
     "data": {
      "text/plain": [
       "numpy.ndarray"
      ]
     },
     "execution_count": 24,
     "metadata": {},
     "output_type": "execute_result"
    }
   ],
   "source": [
    "lst = np.array(lst)\n",
    "type(lst)"
   ]
  },
  {
   "cell_type": "code",
   "execution_count": 25,
   "metadata": {},
   "outputs": [],
   "source": [
    "lst = lst.reshape(-1, 1)"
   ]
  },
  {
   "cell_type": "code",
   "execution_count": 26,
   "metadata": {},
   "outputs": [
    {
     "data": {
      "text/plain": [
       "KMeans(n_clusters=3, random_state=123)"
      ]
     },
     "execution_count": 26,
     "metadata": {},
     "output_type": "execute_result"
    }
   ],
   "source": [
    "classifier = KMeans(n_clusters=3, random_state=123)\n",
    "classifier.fit(lst)"
   ]
  },
  {
   "cell_type": "code",
   "execution_count": 27,
   "metadata": {},
   "outputs": [],
   "source": [
    "y = classifier.predict(lst)\n",
    "y = y.reshape(-1, 1)"
   ]
  },
  {
   "cell_type": "code",
   "execution_count": 28,
   "metadata": {},
   "outputs": [
    {
     "name": "stdout",
     "output_type": "stream",
     "text": [
      "Centers obtained by sklearn library: [[81.29545455 43.78125    10.83333333]]\n"
     ]
    }
   ],
   "source": [
    "centers_sklearn = classifier.cluster_centers_\n",
    "centers_sklearn = centers_sklearn.reshape(1, 3)\n",
    "print(\"Centers obtained by sklearn library:\", centers_sklearn)"
   ]
  },
  {
   "cell_type": "code",
   "execution_count": 29,
   "metadata": {},
   "outputs": [
    {
     "name": "stdout",
     "output_type": "stream",
     "text": [
      "Centers obtained Manually: [8.3, 40.0, 79.82978723404256]\n"
     ]
    }
   ],
   "source": [
    "print(\"Centers obtained Manually:\", centers_new)"
   ]
  }
 ],
 "metadata": {
  "kernelspec": {
   "display_name": "Python 3",
   "language": "python",
   "name": "python3"
  },
  "language_info": {
   "codemirror_mode": {
    "name": "ipython",
    "version": 3
   },
   "file_extension": ".py",
   "mimetype": "text/x-python",
   "name": "python",
   "nbconvert_exporter": "python",
   "pygments_lexer": "ipython3",
   "version": "3.9.1+"
  }
 },
 "nbformat": 4,
 "nbformat_minor": 4
}
