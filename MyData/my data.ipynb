{
 "cells": [
  {
   "cell_type": "markdown",
   "metadata": {},
   "source": [
    "#### Importing Libraries"
   ]
  },
  {
   "cell_type": "code",
   "execution_count": 1,
   "metadata": {},
   "outputs": [
    {
     "name": "stdout",
     "output_type": "stream",
     "text": [
      "Using matplotlib backend: Qt5Agg\n"
     ]
    }
   ],
   "source": [
    "import numpy as np\n",
    "import pandas as pd\n",
    "import matplotlib.pyplot as plt\n",
    "%matplotlib"
   ]
  },
  {
   "cell_type": "code",
   "execution_count": 2,
   "metadata": {},
   "outputs": [],
   "source": [
    "df = pd.read_csv(\"MyData.csv\")"
   ]
  },
  {
   "cell_type": "markdown",
   "metadata": {},
   "source": [
    "#### Reading total nnumber of recordes and prnting the information"
   ]
  },
  {
   "cell_type": "code",
   "execution_count": 3,
   "metadata": {},
   "outputs": [
    {
     "name": "stdout",
     "output_type": "stream",
     "text": [
      "number of rows: 252\n",
      "number of columns: 7\n"
     ]
    }
   ],
   "source": [
    "print(\"number of rows:\", str(df.shape[0])+\"\\nnumber of columns:\", df.shape[1])"
   ]
  },
  {
   "cell_type": "markdown",
   "metadata": {},
   "source": [
    "#### Printing information about dataset"
   ]
  },
  {
   "cell_type": "code",
   "execution_count": 4,
   "metadata": {},
   "outputs": [
    {
     "name": "stdout",
     "output_type": "stream",
     "text": [
      "<class 'pandas.core.frame.DataFrame'>\n",
      "RangeIndex: 252 entries, 0 to 251\n",
      "Data columns (total 7 columns):\n",
      " #   Column     Non-Null Count  Dtype  \n",
      "---  ------     --------------  -----  \n",
      " 0   Date       252 non-null    object \n",
      " 1   Open       251 non-null    float64\n",
      " 2   High       251 non-null    float64\n",
      " 3   Low        251 non-null    float64\n",
      " 4   Close      251 non-null    float64\n",
      " 5   Adj Close  251 non-null    float64\n",
      " 6   Volume     251 non-null    float64\n",
      "dtypes: float64(6), object(1)\n",
      "memory usage: 13.9+ KB\n"
     ]
    }
   ],
   "source": [
    "df.info()"
   ]
  },
  {
   "cell_type": "code",
   "execution_count": 5,
   "metadata": {},
   "outputs": [
    {
     "data": {
      "text/html": [
       "<div>\n",
       "<style scoped>\n",
       "    .dataframe tbody tr th:only-of-type {\n",
       "        vertical-align: middle;\n",
       "    }\n",
       "\n",
       "    .dataframe tbody tr th {\n",
       "        vertical-align: top;\n",
       "    }\n",
       "\n",
       "    .dataframe thead th {\n",
       "        text-align: right;\n",
       "    }\n",
       "</style>\n",
       "<table border=\"1\" class=\"dataframe\">\n",
       "  <thead>\n",
       "    <tr style=\"text-align: right;\">\n",
       "      <th></th>\n",
       "      <th>Open</th>\n",
       "      <th>High</th>\n",
       "      <th>Low</th>\n",
       "      <th>Close</th>\n",
       "      <th>Adj Close</th>\n",
       "      <th>Volume</th>\n",
       "    </tr>\n",
       "  </thead>\n",
       "  <tbody>\n",
       "    <tr>\n",
       "      <th>count</th>\n",
       "      <td>251.000000</td>\n",
       "      <td>251.000000</td>\n",
       "      <td>251.000000</td>\n",
       "      <td>251.000000</td>\n",
       "      <td>251.000000</td>\n",
       "      <td>2.510000e+02</td>\n",
       "    </tr>\n",
       "    <tr>\n",
       "      <th>mean</th>\n",
       "      <td>172.387251</td>\n",
       "      <td>176.308167</td>\n",
       "      <td>168.530280</td>\n",
       "      <td>172.372111</td>\n",
       "      <td>172.372111</td>\n",
       "      <td>7.805806e+07</td>\n",
       "    </tr>\n",
       "    <tr>\n",
       "      <th>std</th>\n",
       "      <td>83.727808</td>\n",
       "      <td>85.487863</td>\n",
       "      <td>81.684666</td>\n",
       "      <td>83.568994</td>\n",
       "      <td>83.568994</td>\n",
       "      <td>5.052564e+07</td>\n",
       "    </tr>\n",
       "    <tr>\n",
       "      <th>min</th>\n",
       "      <td>71.750000</td>\n",
       "      <td>75.400002</td>\n",
       "      <td>71.000000</td>\n",
       "      <td>72.900002</td>\n",
       "      <td>72.900002</td>\n",
       "      <td>1.519374e+07</td>\n",
       "    </tr>\n",
       "    <tr>\n",
       "      <th>25%</th>\n",
       "      <td>106.325001</td>\n",
       "      <td>108.849998</td>\n",
       "      <td>104.199997</td>\n",
       "      <td>106.100003</td>\n",
       "      <td>106.100003</td>\n",
       "      <td>4.747886e+07</td>\n",
       "    </tr>\n",
       "    <tr>\n",
       "      <th>50%</th>\n",
       "      <td>140.600006</td>\n",
       "      <td>143.250000</td>\n",
       "      <td>137.649994</td>\n",
       "      <td>140.100006</td>\n",
       "      <td>140.100006</td>\n",
       "      <td>6.336693e+07</td>\n",
       "    </tr>\n",
       "    <tr>\n",
       "      <th>75%</th>\n",
       "      <td>213.449997</td>\n",
       "      <td>237.099998</td>\n",
       "      <td>211.875000</td>\n",
       "      <td>229.224998</td>\n",
       "      <td>229.224998</td>\n",
       "      <td>8.831973e+07</td>\n",
       "    </tr>\n",
       "    <tr>\n",
       "      <th>max</th>\n",
       "      <td>348.649994</td>\n",
       "      <td>357.000000</td>\n",
       "      <td>346.500000</td>\n",
       "      <td>348.500000</td>\n",
       "      <td>348.500000</td>\n",
       "      <td>3.905778e+08</td>\n",
       "    </tr>\n",
       "  </tbody>\n",
       "</table>\n",
       "</div>"
      ],
      "text/plain": [
       "             Open        High         Low       Close   Adj Close  \\\n",
       "count  251.000000  251.000000  251.000000  251.000000  251.000000   \n",
       "mean   172.387251  176.308167  168.530280  172.372111  172.372111   \n",
       "std     83.727808   85.487863   81.684666   83.568994   83.568994   \n",
       "min     71.750000   75.400002   71.000000   72.900002   72.900002   \n",
       "25%    106.325001  108.849998  104.199997  106.100003  106.100003   \n",
       "50%    140.600006  143.250000  137.649994  140.100006  140.100006   \n",
       "75%    213.449997  237.099998  211.875000  229.224998  229.224998   \n",
       "max    348.649994  357.000000  346.500000  348.500000  348.500000   \n",
       "\n",
       "             Volume  \n",
       "count  2.510000e+02  \n",
       "mean   7.805806e+07  \n",
       "std    5.052564e+07  \n",
       "min    1.519374e+07  \n",
       "25%    4.747886e+07  \n",
       "50%    6.336693e+07  \n",
       "75%    8.831973e+07  \n",
       "max    3.905778e+08  "
      ]
     },
     "execution_count": 5,
     "metadata": {},
     "output_type": "execute_result"
    }
   ],
   "source": [
    "df.describe()"
   ]
  },
  {
   "cell_type": "markdown",
   "metadata": {},
   "source": [
    "#### Find the dates of maximum opening in year 2020 and year 2021"
   ]
  },
  {
   "cell_type": "code",
   "execution_count": 6,
   "metadata": {},
   "outputs": [
    {
     "data": {
      "text/plain": [
       "182"
      ]
     },
     "execution_count": 6,
     "metadata": {},
     "output_type": "execute_result"
    }
   ],
   "source": [
    "index = 0\n",
    "for i in df.iloc[:, 0]:\n",
    "    if i[:4] == '2020':\n",
    "        index = index+1\n",
    "    else: break\n",
    "        \n",
    "index"
   ]
  },
  {
   "cell_type": "markdown",
   "metadata": {},
   "source": [
    "##### Creating separate datasets for year 2020 and 2021"
   ]
  },
  {
   "cell_type": "code",
   "execution_count": 7,
   "metadata": {},
   "outputs": [],
   "source": [
    "df_2020 = df.iloc[ : index, : ]\n",
    "df_2021 = df.iloc[index : , : ]"
   ]
  },
  {
   "cell_type": "code",
   "execution_count": 8,
   "metadata": {},
   "outputs": [
    {
     "name": "stdout",
     "output_type": "stream",
     "text": [
      "Opening Maximum in 2020: 187.899994\n",
      "Opening Maximum in 2021: 348.649994\n"
     ]
    }
   ],
   "source": [
    "open_max_2020 = df_2020.iloc[:, 1].max()\n",
    "open_max_2021 = df_2021.iloc[:, 1].max()\n",
    "\n",
    "print(\"Opening Maximum in 2020:\", open_max_2020)\n",
    "print(\"Opening Maximum in 2021:\", open_max_2021)"
   ]
  },
  {
   "cell_type": "markdown",
   "metadata": {},
   "source": [
    "#### Find the dates of minimum closing in the year 2021."
   ]
  },
  {
   "cell_type": "code",
   "execution_count": 9,
   "metadata": {},
   "outputs": [],
   "source": [
    "min_closing_2021 = 10000\n",
    "date_index = 0\n",
    "count = 0\n",
    "\n",
    "for i in df_2021.iloc[:, 4]:\n",
    "    if i < min_closing_2021:\n",
    "        min_closing_2021 = i\n",
    "        date_index = count\n",
    "    count += 0"
   ]
  },
  {
   "cell_type": "code",
   "execution_count": 10,
   "metadata": {},
   "outputs": [
    {
     "name": "stdout",
     "output_type": "stream",
     "text": [
      "Minimum closing date of year 2021: 2021-01-01\n"
     ]
    }
   ],
   "source": [
    "min_closing_2021_date = df_2021.iloc[date_index, 0]\n",
    "print(\"Minimum closing date of year 2021:\", min_closing_2021_date)"
   ]
  },
  {
   "cell_type": "markdown",
   "metadata": {},
   "source": [
    "#### Find the maximum, minimum, mean, median of the volume."
   ]
  },
  {
   "cell_type": "code",
   "execution_count": 11,
   "metadata": {},
   "outputs": [
    {
     "name": "stdout",
     "output_type": "stream",
     "text": [
      "Minimum Volume: 15193744.0\n",
      "Maximum Volume: 390577839.0\n",
      "Median Volume: 63366932.0\n",
      "Mean Volume: 78058055.65737052\n"
     ]
    }
   ],
   "source": [
    "volume = df.loc[:, 'Volume']\n",
    "print(\"Minimum Volume:\", volume.min())\n",
    "print(\"Maximum Volume:\", volume.max())\n",
    "print(\"Median Volume:\", volume.median())\n",
    "print(\"Mean Volume:\", volume.mean())"
   ]
  },
  {
   "cell_type": "markdown",
   "metadata": {},
   "source": [
    "#### Find the outlier values of the volume column"
   ]
  },
  {
   "cell_type": "code",
   "execution_count": 30,
   "metadata": {},
   "outputs": [],
   "source": [
    "def outlier(column):\n",
    "    column = pd.DataFrame(column)\n",
    "    volume_des = column.describe()\n",
    "    volume_des = np.array(volume_des)\n",
    "    # volume_des = volume_des.reshape(8, 1)\n",
    "#     print(volume_des[4][0])\n",
    "    q1 = volume_des[4][0]\n",
    "    q3 = volume_des[6][0]\n",
    "    IQR = q3-q1\n",
    "    OF = IQR*3\n",
    "    OFRangeL, OFRangeU = (q1-OF, q3+OF)\n",
    "    return OFRangeL, OFRangeU"
   ]
  },
  {
   "cell_type": "code",
   "execution_count": 31,
   "metadata": {},
   "outputs": [],
   "source": [
    "range_outlierl, range_outlieru = outlier(volume)\n",
    "outliers = [i for i in volume if i > range_outlieru or i < range_outlierl]"
   ]
  },
  {
   "cell_type": "code",
   "execution_count": 32,
   "metadata": {},
   "outputs": [
    {
     "name": "stdout",
     "output_type": "stream",
     "text": [
      "Outliers are: \n",
      "215476711.0\n",
      "390577839.0\n",
      "250038029.0\n",
      "283614463.0\n",
      "316008609.0\n",
      "251965965.0\n",
      "224190114.0\n"
     ]
    }
   ],
   "source": [
    "print(\"Outliers are: \")\n",
    "for i in outliers:\n",
    "    print(i)"
   ]
  },
  {
   "cell_type": "code",
   "execution_count": 33,
   "metadata": {},
   "outputs": [
    {
     "data": {
      "text/plain": [
       "(-75043746.0, 210842344.0)"
      ]
     },
     "execution_count": 33,
     "metadata": {},
     "output_type": "execute_result"
    }
   ],
   "source": [
    "outlier(volume)"
   ]
  },
  {
   "cell_type": "code",
   "execution_count": null,
   "metadata": {},
   "outputs": [],
   "source": []
  }
 ],
 "metadata": {
  "kernelspec": {
   "display_name": "Python 3",
   "language": "python",
   "name": "python3"
  },
  "language_info": {
   "codemirror_mode": {
    "name": "ipython",
    "version": 3
   },
   "file_extension": ".py",
   "mimetype": "text/x-python",
   "name": "python",
   "nbconvert_exporter": "python",
   "pygments_lexer": "ipython3",
   "version": "3.9.1+"
  }
 },
 "nbformat": 4,
 "nbformat_minor": 4
}
